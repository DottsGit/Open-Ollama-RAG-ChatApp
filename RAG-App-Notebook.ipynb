{
 "cells": [
  {
   "cell_type": "markdown",
   "metadata": {},
   "source": [
    "# Open-Ollama-RAG-ChatApp Notebook"
   ]
  },
  {
   "cell_type": "markdown",
   "metadata": {},
   "source": [
    "## Setup"
   ]
  },
  {
   "cell_type": "code",
   "execution_count": null,
   "metadata": {},
   "outputs": [],
   "source": [
    "## initial database?\n",
    "# -> Set to True if you run the notebook for the first time or if you changed the md files\n",
    "initial_db = True"
   ]
  },
  {
   "cell_type": "code",
   "execution_count": null,
   "metadata": {},
   "outputs": [],
   "source": [
    "DATA_PATH = \"data/\"\n",
    "OLLAMA_MODEL = \"DeepSeek-R1:14b\"\n",
    "OLLAMA_URL = \"http://localhost:11434\"\n",
    "CHROMA_PATH = \"chroma/\"\n",
    "\n",
    "## langchain split config\n",
    "# md headers\n",
    "headers_to_split_on = [\n",
    "    (\"#\", \"Header 1\"),\n",
    "    (\"##\", \"Header 2\"),\n",
    "    (\"###\", \"Header 3\"),\n",
    "    (\"####\", \"Header 4\"),\n",
    "]\n",
    "\n",
    "# chunk sizes\n",
    "chunk_size = 500\n",
    "chunk_overlap = 100"
   ]
  },
  {
   "cell_type": "markdown",
   "metadata": {},
   "source": [
    "## Create chunks from md files"
   ]
  },
  {
   "cell_type": "code",
   "execution_count": null,
   "metadata": {},
   "outputs": [],
   "source": [
    "from langchain.document_loaders import TextLoader\n",
    "import os\n",
    "\n",
    "documents = []\n",
    "\n",
    "for file in os.listdir(DATA_PATH):\n",
    "    loader = TextLoader(DATA_PATH + file, encoding=\"utf-8\")\n",
    "    documents.append(loader.load()[0])"
   ]
  },
  {
   "cell_type": "code",
   "execution_count": null,
   "metadata": {},
   "outputs": [],
   "source": [
    "documents[0].metadata\n",
    "len(documents[0].page_content)"
   ]
  },
  {
   "cell_type": "code",
   "execution_count": null,
   "metadata": {},
   "outputs": [],
   "source": [
    "# for doc in documents:\n",
    "#     print(doc.metadata)"
   ]
  },
  {
   "cell_type": "code",
   "execution_count": null,
   "metadata": {},
   "outputs": [],
   "source": [
    "from langchain.text_splitter import MarkdownHeaderTextSplitter\n",
    "\n",
    "\n",
    "text_splitter = MarkdownHeaderTextSplitter(headers_to_split_on=headers_to_split_on)\n",
    "chunks_array= []\n",
    "\n",
    "\n",
    "for doc in documents:\n",
    "    chunks = text_splitter.split_text(doc.page_content)\n",
    "    # append source metadata to each chunk\n",
    "    for chunk in chunks:\n",
    "        chunk.metadata.update(doc.metadata)  # Use update() to merge metadata\n",
    "    chunks_array.append(chunks)\n",
    "\n"
   ]
  },
  {
   "cell_type": "code",
   "execution_count": null,
   "metadata": {},
   "outputs": [],
   "source": [
    "len(chunks_array)"
   ]
  },
  {
   "cell_type": "code",
   "execution_count": null,
   "metadata": {},
   "outputs": [],
   "source": [
    "# Char-level splits\n",
    "from langchain.text_splitter import RecursiveCharacterTextSplitter\n",
    "\n",
    "\n",
    "text_splitter = RecursiveCharacterTextSplitter(\n",
    "    chunk_size=chunk_size, chunk_overlap=chunk_overlap, length_function=len, add_start_index=True\n",
    ")\n"
   ]
  },
  {
   "cell_type": "code",
   "execution_count": null,
   "metadata": {},
   "outputs": [],
   "source": [
    "chunks_array_txt_base = []\n",
    "counter = 0\n",
    "for document in chunks_array:\n",
    "    for chunk in document:\n",
    "        splits = text_splitter.split_documents([chunk])\n",
    "        chunks_array_txt_base.append(splits)\n",
    "        counter += 1\n",
    "        "
   ]
  },
  {
   "cell_type": "code",
   "execution_count": null,
   "metadata": {},
   "outputs": [],
   "source": [
    "print(counter)\n",
    "len(chunks_array_txt_base)"
   ]
  },
  {
   "cell_type": "code",
   "execution_count": null,
   "metadata": {},
   "outputs": [],
   "source": [
    "all_document_chunks = [chunk for document in chunks_array_txt_base for chunk in document]"
   ]
  },
  {
   "cell_type": "code",
   "execution_count": null,
   "metadata": {},
   "outputs": [],
   "source": [
    "print(len(all_document_chunks))"
   ]
  },
  {
   "cell_type": "code",
   "execution_count": null,
   "metadata": {},
   "outputs": [],
   "source": [
    "all_document_chunks[1].page_content"
   ]
  },
  {
   "cell_type": "markdown",
   "metadata": {},
   "source": [
    "## Connect to ollama backend"
   ]
  },
  {
   "cell_type": "code",
   "execution_count": null,
   "metadata": {},
   "outputs": [],
   "source": [
    "# TEST OLLAMA CONNECTION ##\n",
    "from langchain_community.llms import Ollama\n",
    "\n",
    "ollama = Ollama(base_url=OLLAMA_URL, model=OLLAMA_MODEL)\n",
    "\n",
    "print(ollama(\"Who is Alice?\"))"
   ]
  },
  {
   "cell_type": "markdown",
   "metadata": {},
   "source": [
    "## Create vector db"
   ]
  },
  {
   "cell_type": "code",
   "execution_count": null,
   "metadata": {},
   "outputs": [],
   "source": [
    "all_document_chunks[0]"
   ]
  },
  {
   "cell_type": "code",
   "execution_count": null,
   "metadata": {},
   "outputs": [],
   "source": [
    "from langchain.embeddings import OllamaEmbeddings\n",
    "from langchain.vectorstores import Chroma\n",
    "from tqdm import tqdm\n",
    "import time\n",
    "import concurrent.futures\n",
    "\n",
    "def create_vector_db(all_document_chunks, ollama_url, ollama_model, chroma_path, batch_size=30, max_workers=3):\n",
    "    # Get total number of document chunks\n",
    "    total_chunks = len(all_document_chunks)\n",
    "    print(f\"Processing {total_chunks} document chunks\")\n",
    "    \n",
    "    # Initialize embedding function - without the unsupported parameter\n",
    "    embeddings = OllamaEmbeddings(\n",
    "        base_url=ollama_url, \n",
    "        model=ollama_model\n",
    "    )\n",
    "    \n",
    "    # Create Chroma instance with optimized settings\n",
    "    chroma_db = Chroma(\n",
    "        embedding_function=embeddings, \n",
    "        persist_directory=chroma_path\n",
    "    )\n",
    "    \n",
    "    # Function to process a batch of documents\n",
    "    def process_batch(batch):\n",
    "        try:\n",
    "            chroma_db.add_documents(documents=batch)\n",
    "            return len(batch)\n",
    "        except Exception as e:\n",
    "            print(f\"Error processing batch: {e}\")\n",
    "            # On failure, process documents one by one to identify problematic documents\n",
    "            successful = 0\n",
    "            for doc in batch:\n",
    "                try:\n",
    "                    chroma_db.add_documents(documents=[doc])\n",
    "                    successful += 1\n",
    "                except Exception as e:\n",
    "                    print(f\"Problem with document: {doc.page_content[:50]}... Error: {e}\")\n",
    "            return successful\n",
    "    \n",
    "    # Process in optimized batches with parallel workers\n",
    "    start_time = time.time()\n",
    "    processed_count = 0\n",
    "    \n",
    "    # Create batches\n",
    "    batches = [all_document_chunks[i:i+batch_size] for i in range(0, total_chunks, batch_size)]\n",
    "    \n",
    "    # Process batches with progress tracking\n",
    "    with tqdm(total=total_chunks, desc=\"Creating Vector Database\") as pbar:\n",
    "        # Use ThreadPoolExecutor for parallel processing\n",
    "        with concurrent.futures.ThreadPoolExecutor(max_workers=max_workers) as executor:\n",
    "            # Submit all batches to the executor\n",
    "            future_to_batch = {executor.submit(process_batch, batch): batch for batch in batches}\n",
    "            \n",
    "            # Process results as they complete\n",
    "            for future in concurrent.futures.as_completed(future_to_batch):\n",
    "                batch_count = future.result()\n",
    "                processed_count += batch_count\n",
    "                pbar.update(batch_count)\n",
    "                \n",
    "                # Persist periodically (e.g., every ~10% of documents)\n",
    "                if processed_count % max(int(total_chunks * 0.1), batch_size) < batch_size:\n",
    "                    chroma_db.persist()\n",
    "                    \n",
    "    # Final persistence\n",
    "    chroma_db.persist()\n",
    "    \n",
    "    # Calculate and display metrics\n",
    "    elapsed_time = time.time() - start_time\n",
    "    docs_per_second = processed_count / elapsed_time\n",
    "    \n",
    "    print(f\"Vector database created with {processed_count} document chunks!\")\n",
    "    print(f\"Total time: {elapsed_time:.2f} seconds ({docs_per_second:.2f} docs/second)\")\n",
    "    \n",
    "    return chroma_db\n",
    "\n",
    "# Usage\n",
    "if initial_db:\n",
    "    chroma_db = create_vector_db(\n",
    "        all_document_chunks=all_document_chunks,\n",
    "        ollama_url=OLLAMA_URL,\n",
    "        ollama_model=OLLAMA_MODEL,\n",
    "        chroma_path=CHROMA_PATH,\n",
    "        batch_size=10,  # Adjust based on your system and model\n",
    "        max_workers=12   # Adjust based on CPU cores and memory\n",
    "    )"
   ]
  },
  {
   "cell_type": "code",
   "execution_count": null,
   "metadata": {},
   "outputs": [],
   "source": [
    "## load chroma db from disk\n",
    "from langchain.embeddings import OllamaEmbeddings\n",
    "from langchain.vectorstores import Chroma\n",
    "\n",
    "chroma_db = Chroma(persist_directory=CHROMA_PATH, embedding_function=OllamaEmbeddings(base_url=OLLAMA_URL, model=OLLAMA_MODEL))"
   ]
  },
  {
   "cell_type": "code",
   "execution_count": null,
   "metadata": {},
   "outputs": [],
   "source": [
    "# test similarity search\n",
    "query = \"Who is Alice?\"\n",
    "\n",
    "result_docs = chroma_db.similarity_search(query)\n",
    "\n"
   ]
  },
  {
   "cell_type": "code",
   "execution_count": null,
   "metadata": {},
   "outputs": [],
   "source": [
    "for doc in result_docs:\n",
    "    print(doc)"
   ]
  },
  {
   "cell_type": "markdown",
   "metadata": {},
   "source": [
    "## Gradio frontend"
   ]
  },
  {
   "cell_type": "code",
   "execution_count": null,
   "metadata": {},
   "outputs": [],
   "source": [
    "from langchain_community.llms import Ollama\n",
    "\n",
    "\n",
    "\n",
    "def chat_ollama(message, history):\n",
    "    # initiate ollama\n",
    "    ollama = Ollama(base_url=OLLAMA_URL, model=OLLAMA_MODEL)\n",
    "\n",
    "    # search for similar documents in chroma db\n",
    "    result_chunks = chroma_db.similarity_search(message)\n",
    "    \n",
    "    chroma_knowledge = \"\"\n",
    "    for id, chunk in enumerate(result_chunks):\n",
    "        source_id = id + 1\n",
    "        chroma_knowledge += \"[\" + str(source_id) +\"] \\n\" + chunk.page_content + \"\\n\"\n",
    "\n",
    "    sources = \"\"\n",
    "    for id, chunk in enumerate(result_chunks):\n",
    "        source_id = id + 1\n",
    "        sources += \"[\" + str(source_id) + \"] \\n\" + chunk.metadata[\"source\"] + \"\\n\"\n",
    "\n",
    "    prompt = \"Answer the following question using the provided knowledge and the chat history:\\n\\n###KNOWLEDGE: \" + chroma_knowledge + \"\\n###CHAT-HISTORY: \" + str(history) + \"\\n\\n###QUESTION: \" + message\n",
    "    result = ollama(prompt) + \"\\n\\n\\nReferences:\\n\" + sources \n",
    "\n",
    "    # print(prompt)\n",
    "    \n",
    "    return result"
   ]
  },
  {
   "cell_type": "code",
   "execution_count": null,
   "metadata": {},
   "outputs": [],
   "source": [
    "chat_ollama(\"Who is Alice?\", \"\")"
   ]
  },
  {
   "cell_type": "code",
   "execution_count": null,
   "metadata": {},
   "outputs": [],
   "source": [
    "import gradio as gr\n",
    "gradio_interface = gr.ChatInterface(\n",
    "        chat_ollama,\n",
    "        chatbot=gr.Chatbot(),\n",
    "        textbox=gr.Textbox(placeholder=\"Example: Who is Alice?\", container=False, scale=7),\n",
    "        title=\"The Ollama test chatbot\",\n",
    "        description=f\"Ask the {OLLAMA_MODEL} chatbot a question!\",\n",
    "        theme='gradio/base', # themes at https://huggingface.co/spaces/gradio/theme-gallery\n",
    "        retry_btn=None,\n",
    "        undo_btn=\"Delete Previous\",\n",
    "        clear_btn=\"Clear\",\n",
    "\n",
    ")\n",
    "\n"
   ]
  },
  {
   "cell_type": "markdown",
   "metadata": {},
   "source": [
    "## Run app"
   ]
  },
  {
   "cell_type": "code",
   "execution_count": null,
   "metadata": {},
   "outputs": [],
   "source": [
    "gradio_interface.launch()"
   ]
  },
  {
   "cell_type": "code",
   "execution_count": null,
   "metadata": {},
   "outputs": [],
   "source": [
    "### END OF FILE ###"
   ]
  }
 ],
 "metadata": {
  "kernelspec": {
   "display_name": "Python (.venv)",
   "language": "python",
   "name": "ollama-rag-env"
  },
  "language_info": {
   "codemirror_mode": {
    "name": "ipython",
    "version": 3
   },
   "file_extension": ".py",
   "mimetype": "text/x-python",
   "name": "python",
   "nbconvert_exporter": "python",
   "pygments_lexer": "ipython3",
   "version": "3.12.8"
  }
 },
 "nbformat": 4,
 "nbformat_minor": 2
}
